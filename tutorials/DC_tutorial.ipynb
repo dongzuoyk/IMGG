{
 "cells": [
  {
   "cell_type": "code",
   "execution_count": 1,
   "metadata": {},
   "outputs": [],
   "source": [
    "from anndata import AnnData\n",
    "from main import integrate_data\n",
    "from utils import data_preprocess\n",
    "\n",
    "import scanpy as sc\n",
    "import numpy as np\n",
    "import time\n",
    "import os"
   ]
  },
  {
   "cell_type": "code",
   "execution_count": 2,
   "metadata": {},
   "outputs": [],
   "source": [
    "input_dir = 'input'\n",
    "res_dir = 'result'\n",
    "method_name = 'IMG'\n",
    "data_name = 'DC'"
   ]
  },
  {
   "cell_type": "code",
   "execution_count": 3,
   "metadata": {},
   "outputs": [],
   "source": [
    "start_time = time.time()\n",
    "adata = sc.read_loom(\"../data/DC.loom\",sparse = False)\n",
    "# adata = sc.read_loom(\"../mycode/myintegrate/data/panc8.loom\",sparse = False)"
   ]
  },
  {
   "cell_type": "code",
   "execution_count": 4,
   "metadata": {},
   "outputs": [],
   "source": [
    "adata.obs['batch'] = adata.obs['batch'].astype('category')"
   ]
  },
  {
   "cell_type": "code",
   "execution_count": 5,
   "metadata": {},
   "outputs": [
    {
     "data": {
      "text/plain": [
       "Batch2    286\n",
       "Batch1    283\n",
       "Name: batch, dtype: int64"
      ]
     },
     "execution_count": 5,
     "metadata": {},
     "output_type": "execute_result"
    }
   ],
   "source": [
    "adata.obs.batch.value_counts()"
   ]
  },
  {
   "cell_type": "code",
   "execution_count": 6,
   "metadata": {},
   "outputs": [
    {
     "name": "stderr",
     "output_type": "stream",
     "text": [
      "/hpcfiles/users/zcg/.conda/envs/zcg/lib/python3.7/site-packages/pandas/core/arrays/categorical.py:2487: FutureWarning: The `inplace` parameter in pandas.Categorical.remove_unused_categories is deprecated and will be removed in a future version.\n",
      "  res = method(*args, **kwargs)\n",
      "Trying to set attribute `.obs` of view, copying.\n"
     ]
    },
    {
     "name": "stdout",
     "output_type": "stream",
     "text": [
      "Establishing Adata for Next Step...\n",
      "PreProcess Done.\n"
     ]
    }
   ],
   "source": [
    "adata.X = np.float32(np.int32(adata.X))\n",
    "adata = data_preprocess(adata)"
   ]
  },
  {
   "cell_type": "code",
   "execution_count": 7,
   "metadata": {},
   "outputs": [],
   "source": [
    "balance_sampling = False\n",
    "batch_num = len(adata.obs.batch.unique())"
   ]
  },
  {
   "cell_type": "code",
   "execution_count": 8,
   "metadata": {},
   "outputs": [],
   "source": [
    "# Whether to use batch balance sampling strategy\n",
    "if balance_sampling:\n",
    "    total_num = len(adata)\n",
    "    per_num = int(total_num/batch_num)\n",
    "\n",
    "    X = adata.X\n",
    "    y = adata.obs.batch.tolist()\n",
    "\n",
    "    from collections import Counter\n",
    "    print(Counter(y))\n",
    "\n",
    "    over_sample = {}\n",
    "    under_sample = {}\n",
    "    dict_y = Counter(y)\n",
    "    for key in dict_y.keys():\n",
    "        if dict_y[key] >= per_num * 1.1:\n",
    "            under_sample[key] = int(per_num * 1.1)\n",
    "        elif dict_y[key] <= per_num * 0.9:\n",
    "            over_sample[key] = int(per_num * 0.9)\n",
    "\n",
    "    from imblearn.over_sampling import SMOTE\n",
    "    smo = SMOTE(sampling_strategy=over_sample,random_state=42)\n",
    "    X_smo, y_smo = smo.fit_resample(X, y)\n",
    "    print(Counter(y_smo))\n",
    "\n",
    "    from imblearn.under_sampling import RandomUnderSampler\n",
    "    cc = RandomUnderSampler(sampling_strategy=under_sample,random_state=0)\n",
    "    X_resampled, y_resampled = cc.fit_resample(X_smo, y_smo)\n",
    "    print(Counter(y_resampled))\n",
    "    import pandas as pd\n",
    "    obs = pd.DataFrame()\n",
    "    obs['batch'] = y_resampled\n",
    "    ppd_adata = AnnData(X_resampled,obs=obs)\n",
    "else:\n",
    "    ppd_adata = adata"
   ]
  },
  {
   "cell_type": "code",
   "execution_count": 9,
   "metadata": {},
   "outputs": [],
   "source": [
    "sc.tl.pca(ppd_adata,n_comps=256)"
   ]
  },
  {
   "cell_type": "code",
   "execution_count": 10,
   "metadata": {
    "scrolled": true
   },
   "outputs": [
    {
     "name": "stdout",
     "output_type": "stream",
     "text": [
      "Number of samples per batch: 282\n",
      "Times: 0\n",
      "Batch1<——>Batch2\n",
      "Times: 1\n",
      "Batch1<——>Batch2\n"
     ]
    },
    {
     "name": "stderr",
     "output_type": "stream",
     "text": [
      "/hpcfiles/users/zcg/.conda/envs/zcg/lib/python3.7/site-packages/pandas/core/arrays/categorical.py:2487: FutureWarning: The `inplace` parameter in pandas.Categorical.remove_unused_categories is deprecated and will be removed in a future version.\n",
      "  res = method(*args, **kwargs)\n"
     ]
    },
    {
     "name": "stdout",
     "output_type": "stream",
     "text": [
      "Find MNNs time-consuming :0.25588154792785645\n",
      "The percentage of MNN paired cells in the total cells : 0.21631205673758866\n",
      "The final number of subgraphs :61\n",
      "Counter({2: 61})\n",
      "Dataset size : 1220\n",
      "Time-consuming to build dataset: 1.9210035800933838\n",
      "[Epoch 1/100] [D loss: -0.031692] [G loss: 0.097221] [AE loss: 100.820206]\n",
      "[Epoch 2/100] [D loss: -0.828391] [G loss: -0.554013] [AE loss: 75.973663]\n",
      "[Epoch 3/100] [D loss: -1.629035] [G loss: -2.407733] [AE loss: 66.216202]\n",
      "[Epoch 4/100] [D loss: -1.999774] [G loss: -4.466070] [AE loss: 66.057533]\n",
      "[Epoch 5/100] [D loss: -2.063716] [G loss: -4.963454] [AE loss: 60.775158]\n",
      "[Epoch 6/100] [D loss: -2.131478] [G loss: -4.665086] [AE loss: 62.329914]\n",
      "[Epoch 7/100] [D loss: -2.192067] [G loss: -4.350624] [AE loss: 61.842773]\n",
      "[Epoch 8/100] [D loss: -2.198714] [G loss: -4.081671] [AE loss: 59.557693]\n",
      "[Epoch 9/100] [D loss: -2.268348] [G loss: -4.020391] [AE loss: 59.321087]\n",
      "[Epoch 10/100] [D loss: -2.360218] [G loss: -4.189776] [AE loss: 62.065899]\n",
      "[Epoch 11/100] [D loss: -2.400404] [G loss: -3.997675] [AE loss: 62.071758]\n",
      "[Epoch 12/100] [D loss: -2.446325] [G loss: -4.193740] [AE loss: 60.709305]\n",
      "[Epoch 13/100] [D loss: -2.623674] [G loss: -4.132504] [AE loss: 62.914520]\n",
      "[Epoch 14/100] [D loss: -2.573483] [G loss: -4.273932] [AE loss: 59.214130]\n",
      "[Epoch 15/100] [D loss: -2.652226] [G loss: -4.112769] [AE loss: 60.949558]\n",
      "[Epoch 16/100] [D loss: -2.747522] [G loss: -4.627575] [AE loss: 59.997234]\n",
      "[Epoch 17/100] [D loss: -2.674711] [G loss: -4.274390] [AE loss: 58.484241]\n",
      "[Epoch 18/100] [D loss: -2.981330] [G loss: -4.688312] [AE loss: 60.847496]\n",
      "[Epoch 19/100] [D loss: -2.897864] [G loss: -4.201995] [AE loss: 59.398243]\n",
      "[Epoch 20/100] [D loss: -2.983838] [G loss: -4.226304] [AE loss: 60.564594]\n",
      "[Epoch 21/100] [D loss: -3.191289] [G loss: -5.144637] [AE loss: 59.204430]\n",
      "[Epoch 22/100] [D loss: -3.278875] [G loss: -4.566730] [AE loss: 58.843872]\n",
      "[Epoch 23/100] [D loss: -3.402498] [G loss: -4.624916] [AE loss: 58.596638]\n",
      "[Epoch 24/100] [D loss: -3.547415] [G loss: -4.725644] [AE loss: 59.556259]\n",
      "[Epoch 25/100] [D loss: -3.598167] [G loss: -4.819068] [AE loss: 59.539616]\n",
      "[Epoch 26/100] [D loss: -3.783222] [G loss: -4.882441] [AE loss: 60.142467]\n",
      "[Epoch 27/100] [D loss: -3.482291] [G loss: -4.793362] [AE loss: 59.240788]\n",
      "[Epoch 28/100] [D loss: -3.929753] [G loss: -4.873071] [AE loss: 59.763714]\n",
      "[Epoch 29/100] [D loss: -3.986145] [G loss: -4.517699] [AE loss: 59.008362]\n",
      "[Epoch 30/100] [D loss: -4.057398] [G loss: -4.595333] [AE loss: 57.965618]\n",
      "[Epoch 31/100] [D loss: -4.292321] [G loss: -4.461414] [AE loss: 61.485813]\n",
      "[Epoch 32/100] [D loss: -4.213433] [G loss: -4.602085] [AE loss: 58.758991]\n",
      "[Epoch 33/100] [D loss: -4.231833] [G loss: -4.069821] [AE loss: 57.722179]\n",
      "[Epoch 34/100] [D loss: -4.216402] [G loss: -3.684165] [AE loss: 59.597378]\n",
      "[Epoch 35/100] [D loss: -4.364707] [G loss: -4.148243] [AE loss: 59.278896]\n",
      "[Epoch 36/100] [D loss: -4.468458] [G loss: -3.719234] [AE loss: 58.203812]\n",
      "[Epoch 37/100] [D loss: -4.616165] [G loss: -4.553140] [AE loss: 58.337666]\n",
      "[Epoch 38/100] [D loss: -4.569256] [G loss: -4.641913] [AE loss: 57.580204]\n",
      "[Epoch 39/100] [D loss: -4.590193] [G loss: -4.295053] [AE loss: 59.764633]\n",
      "[Epoch 40/100] [D loss: -4.701064] [G loss: -3.556072] [AE loss: 58.579773]\n",
      "[Epoch 41/100] [D loss: -4.415410] [G loss: -3.902685] [AE loss: 58.351513]\n",
      "[Epoch 42/100] [D loss: -3.857193] [G loss: -3.654262] [AE loss: 57.415936]\n",
      "[Epoch 43/100] [D loss: -4.356309] [G loss: -3.569722] [AE loss: 59.035931]\n",
      "[Epoch 44/100] [D loss: -4.870743] [G loss: -3.694124] [AE loss: 60.961292]\n",
      "[Epoch 45/100] [D loss: -4.954203] [G loss: -4.047074] [AE loss: 59.211983]\n",
      "[Epoch 46/100] [D loss: -4.975427] [G loss: -4.239244] [AE loss: 59.527573]\n",
      "[Epoch 47/100] [D loss: -4.952233] [G loss: -4.305871] [AE loss: 59.389862]\n",
      "[Epoch 48/100] [D loss: -5.097481] [G loss: -4.551863] [AE loss: 59.823753]\n",
      "[Epoch 49/100] [D loss: -4.979073] [G loss: -4.221302] [AE loss: 58.884010]\n",
      "[Epoch 50/100] [D loss: -5.033522] [G loss: -5.051793] [AE loss: 58.814529]\n",
      "[Epoch 51/100] [D loss: -5.125247] [G loss: -4.634513] [AE loss: 58.918789]\n",
      "[Epoch 52/100] [D loss: -4.961017] [G loss: -3.932787] [AE loss: 57.190857]\n",
      "[Epoch 53/100] [D loss: -5.125621] [G loss: -4.928125] [AE loss: 59.612911]\n",
      "[Epoch 54/100] [D loss: -5.181448] [G loss: -4.024191] [AE loss: 57.710636]\n",
      "[Epoch 55/100] [D loss: -5.242086] [G loss: -4.184300] [AE loss: 61.090855]\n",
      "[Epoch 56/100] [D loss: -5.090097] [G loss: -4.058721] [AE loss: 56.952240]\n",
      "[Epoch 57/100] [D loss: -5.264470] [G loss: -5.481958] [AE loss: 58.374928]\n",
      "[Epoch 58/100] [D loss: -5.216420] [G loss: -4.744098] [AE loss: 58.492474]\n",
      "[Epoch 59/100] [D loss: -5.300982] [G loss: -3.151730] [AE loss: 58.031300]\n",
      "[Epoch 60/100] [D loss: -4.866879] [G loss: -2.999263] [AE loss: 59.327026]\n",
      "[Epoch 61/100] [D loss: -5.317066] [G loss: -1.388267] [AE loss: 58.901043]\n",
      "[Epoch 62/100] [D loss: -5.345572] [G loss: -3.521175] [AE loss: 57.407799]\n",
      "[Epoch 63/100] [D loss: -5.422533] [G loss: -2.791196] [AE loss: 59.558151]\n",
      "[Epoch 64/100] [D loss: -5.358047] [G loss: -4.477894] [AE loss: 59.166031]\n",
      "[Epoch 65/100] [D loss: -5.505639] [G loss: -4.664546] [AE loss: 58.265057]\n",
      "[Epoch 66/100] [D loss: -5.236578] [G loss: -4.144795] [AE loss: 56.771000]\n",
      "[Epoch 67/100] [D loss: -5.450718] [G loss: -2.119150] [AE loss: 59.320827]\n",
      "[Epoch 68/100] [D loss: -5.579582] [G loss: -3.879427] [AE loss: 60.625843]\n",
      "[Epoch 69/100] [D loss: -5.296545] [G loss: -3.690414] [AE loss: 58.114937]\n",
      "[Epoch 70/100] [D loss: -5.259644] [G loss: -4.262192] [AE loss: 57.169113]\n",
      "[Epoch 71/100] [D loss: -5.435418] [G loss: -3.259677] [AE loss: 57.401665]\n",
      "[Epoch 72/100] [D loss: -5.591131] [G loss: -2.434963] [AE loss: 59.263103]\n",
      "[Epoch 73/100] [D loss: -5.036329] [G loss: -3.863693] [AE loss: 57.271488]\n",
      "[Epoch 74/100] [D loss: -5.551407] [G loss: -2.492369] [AE loss: 59.995518]\n",
      "[Epoch 75/100] [D loss: -5.526532] [G loss: -3.291024] [AE loss: 57.465347]\n",
      "[Epoch 76/100] [D loss: -5.578049] [G loss: -3.545011] [AE loss: 59.405724]\n",
      "[Epoch 77/100] [D loss: -5.604161] [G loss: -4.553729] [AE loss: 60.126308]\n",
      "[Epoch 78/100] [D loss: -5.612584] [G loss: -2.749872] [AE loss: 58.902489]\n",
      "[Epoch 79/100] [D loss: -5.620646] [G loss: -3.206073] [AE loss: 59.492374]\n",
      "[Epoch 80/100] [D loss: -5.629522] [G loss: -3.617596] [AE loss: 58.444908]\n",
      "[Epoch 81/100] [D loss: -5.421296] [G loss: -3.377148] [AE loss: 57.595192]\n",
      "[Epoch 82/100] [D loss: -5.670340] [G loss: -3.206034] [AE loss: 58.484539]\n",
      "[Epoch 83/100] [D loss: -5.624309] [G loss: -2.387586] [AE loss: 57.006718]\n",
      "[Epoch 84/100] [D loss: -5.562071] [G loss: -4.420995] [AE loss: 55.943604]\n",
      "[Epoch 85/100] [D loss: -5.694395] [G loss: -3.426549] [AE loss: 57.451279]\n",
      "[Epoch 86/100] [D loss: -5.108390] [G loss: -4.172966] [AE loss: 57.973255]\n",
      "[Epoch 87/100] [D loss: -5.564247] [G loss: -4.477379] [AE loss: 57.983776]\n",
      "[Epoch 88/100] [D loss: -5.691626] [G loss: -2.487503] [AE loss: 58.124111]\n",
      "[Epoch 89/100] [D loss: -5.668982] [G loss: -3.836884] [AE loss: 57.625458]\n",
      "[Epoch 90/100] [D loss: -5.766729] [G loss: -4.650598] [AE loss: 59.562702]\n",
      "[Epoch 91/100] [D loss: -5.556500] [G loss: -3.880732] [AE loss: 57.616528]\n",
      "[Epoch 92/100] [D loss: -5.676476] [G loss: -2.632459] [AE loss: 56.633778]\n",
      "[Epoch 93/100] [D loss: -5.566929] [G loss: -3.156989] [AE loss: 57.528393]\n",
      "[Epoch 94/100] [D loss: -5.743758] [G loss: -4.390714] [AE loss: 57.935387]\n",
      "[Epoch 95/100] [D loss: -5.628660] [G loss: -2.698589] [AE loss: 59.443645]\n",
      "[Epoch 96/100] [D loss: -5.770703] [G loss: -3.314240] [AE loss: 57.771492]\n",
      "[Epoch 97/100] [D loss: -5.805371] [G loss: -2.492589] [AE loss: 58.915871]\n",
      "[Epoch 98/100] [D loss: -5.697741] [G loss: -3.020063] [AE loss: 56.020699]\n",
      "[Epoch 99/100] [D loss: -5.821180] [G loss: -3.765052] [AE loss: 58.675426]\n",
      "[Epoch 100/100] [D loss: -5.552943] [G loss: -3.400630] [AE loss: 58.242973]\n"
     ]
    }
   ],
   "source": [
    "out= integrate_data(ppd_adata, adata, batch_key='batch', n_epochs=100, mnn_times=2, len_weight=5, self_nbs=5, other_nbs=1, batch_size=1024, n_critic=100,batch_num=batch_num,balance_sampling=balance_sampling)"
   ]
  },
  {
   "cell_type": "code",
   "execution_count": 11,
   "metadata": {},
   "outputs": [
    {
     "name": "stdout",
     "output_type": "stream",
     "text": [
      "耗时为: 83.06577587127686\n"
     ]
    }
   ],
   "source": [
    "end_time = time.time()\n",
    "print(\"耗时为: \"+str(end_time-start_time))"
   ]
  },
  {
   "cell_type": "code",
   "execution_count": 12,
   "metadata": {},
   "outputs": [],
   "source": [
    "out = AnnData(out,adata.obs)"
   ]
  },
  {
   "cell_type": "code",
   "execution_count": 13,
   "metadata": {},
   "outputs": [],
   "source": [
    "out.write_loom(os.path.join(res_dir,method_name+'_'+data_name+'.loom'),write_obsm_varm=True)"
   ]
  },
  {
   "cell_type": "code",
   "execution_count": 14,
   "metadata": {},
   "outputs": [
    {
     "name": "stderr",
     "output_type": "stream",
     "text": [
      "WARNING: You’re trying to run this on 2000 dimensions of `.X`, if you really want this, set `use_rep='X'`.\n",
      "         Falling back to preprocessing with `sc.pp.pca` and default params.\n"
     ]
    }
   ],
   "source": [
    "sc.pp.neighbors(out)\n",
    "sc.tl.umap(out)"
   ]
  },
  {
   "cell_type": "code",
   "execution_count": 15,
   "metadata": {},
   "outputs": [
    {
     "name": "stderr",
     "output_type": "stream",
     "text": [
      "... storing 'ClusterName' as categorical\n",
      "... storing 'celltype' as categorical\n",
      "WARNING: saving figure to file figures/umap_IMG_DC_batch.png\n"
     ]
    },
    {
     "data": {
      "image/png": "[encoded data removed]",
      "text/plain": [
       "<Figure size 640x480 with 1 Axes>"
      ]
     },
     "metadata": {},
     "output_type": "display_data"
    },
    {
     "name": "stderr",
     "output_type": "stream",
     "text": [
      "WARNING: saving figure to file figures/umap_IMG_DC_celltype.png\n"
     ]
    },
    {
     "data": {
      "image/png": "[encoded data removed]",
      "text/plain": [
       "<Figure size 640x480 with 1 Axes>"
      ]
     },
     "metadata": {},
     "output_type": "display_data"
    }
   ],
   "source": [
    "sc.pl.umap(out,color=['batch'],legend_fontsize=12,save='_'+method_name+'_'+data_name+'_batch.png')\n",
    "sc.pl.umap(out,color=['celltype'],legend_fontsize=12,save='_'+method_name+'_'+data_name+'_celltype.png')"
   ]
  },
  {
   "cell_type": "code",
   "execution_count": 16,
   "metadata": {},
   "outputs": [
    {
     "name": "stderr",
     "output_type": "stream",
     "text": [
      "/hpcfiles/users/zcg/.conda/envs/zcg/lib/python3.7/site-packages/pandas/core/arrays/categorical.py:2487: FutureWarning: The `inplace` parameter in pandas.Categorical.remove_unused_categories is deprecated and will be removed in a future version.\n",
      "  res = method(*args, **kwargs)\n"
     ]
    }
   ],
   "source": [
    "out = out[out.obs.celltype != 'CD1C']\n",
    "out = out[out.obs.celltype != 'CD141']"
   ]
  },
  {
   "cell_type": "code",
   "execution_count": 17,
   "metadata": {},
   "outputs": [],
   "source": [
    "import pandas as pd\n",
    "\n",
    "from sklearn.metrics import silhouette_score,adjusted_rand_score\n",
    "from sklearn.cluster import KMeans\n",
    "\n",
    "def compute_asw(arr, batch_label, cell_label):\n",
    "\n",
    "    batch_score = silhouette_score(arr, batch_label)\n",
    "    celltype_score = silhouette_score(arr, cell_label)\n",
    "\n",
    "\n",
    "    return batch_score,celltype_score\n",
    "\n",
    "def compute_ARI(adata):\n",
    "    \n",
    "    X = adata.obsm['X_pca']\n",
    "    Y_batchcluster = adata.obs['batch'].tolist()\n",
    "    Y_batchnum = len(set(Y_batchcluster))\n",
    "\n",
    "    Y_cellcluster = adata.obs['celltype'].tolist()\n",
    "    Y_cellnum = len(set(Y_cellcluster))\n",
    "\n",
    "    km_batch = KMeans(n_clusters=Y_batchnum, init='k-means++', max_iter=30)\n",
    "    km_batch.fit(X)\n",
    "    y_batch = km_batch.predict(X)\n",
    "    batch_ARI = adjusted_rand_score(Y_batchcluster,y_batch)\n",
    "\n",
    "\n",
    "    km_cell = KMeans(n_clusters=Y_cellnum, init='k-means++', max_iter=30)\n",
    "    km_cell.fit(X)\n",
    "    y_cell = km_cell.predict(X)\n",
    "    cell_ARI = adjusted_rand_score(Y_cellcluster,y_cell)\n",
    "\n",
    "    return batch_ARI, cell_ARI"
   ]
  },
  {
   "cell_type": "code",
   "execution_count": 18,
   "metadata": {},
   "outputs": [
    {
     "name": "stdout",
     "output_type": "stream",
     "text": [
      "0.0002288997 0.5908694\n"
     ]
    }
   ],
   "source": [
    "arr = out.obsm['X_pca']\n",
    "batch_label = out.obs['batch'].tolist()\n",
    "cell_label = out.obs['celltype'].tolist()\n",
    "asw_batch_score, asw_celltype_score = compute_asw(arr, batch_label, cell_label)\n",
    "print(asw_batch_score,asw_celltype_score)"
   ]
  },
  {
   "cell_type": "code",
   "execution_count": 19,
   "metadata": {},
   "outputs": [
    {
     "name": "stdout",
     "output_type": "stream",
     "text": [
      "-0.002602236938740621 0.9788361503093974\n"
     ]
    }
   ],
   "source": [
    "batch_ARI, cell_ARI = compute_ARI(out)\n",
    "print(batch_ARI, cell_ARI)"
   ]
  },
  {
   "cell_type": "code",
   "execution_count": 20,
   "metadata": {},
   "outputs": [
    {
     "name": "stdout",
     "output_type": "stream",
     "text": [
      "[1] \"batch mean LISI: \"\n",
      "[1] 1.920626\n",
      "[1] \"celltype mean LISI: \"\n",
      "[1] 1.017606\n",
      "\n"
     ]
    }
   ],
   "source": [
    "matrix_path = os.path.join(res_dir,method_name+'_'+data_name+'_matrix.csv')\n",
    "meta_path = os.path.join(res_dir,method_name+'_'+data_name+'_meta.csv')\n",
    "lisi_path = os.path.join(res_dir,method_name+'_'+data_name+'_lisi.csv')\n",
    "\n",
    "np.savetxt(matrix_path, out.obsm['X_pca'], delimiter=',')\n",
    "data = {'batch':out.obs.batch.tolist(), 'celltype':out.obs.celltype.tolist()}\n",
    "df = pd.DataFrame(data)\n",
    "df.to_csv(meta_path,index=False)\n",
    "\n",
    "process_args = \"~/.conda/envs/zcg/bin/Rscript LISI.R \"+matrix_path+\" \"+meta_path+\" \"+lisi_path\n",
    "print(os.popen(process_args).read())"
   ]
  }
 ],
 "metadata": {
  "kernelspec": {
   "display_name": "Python (zcg)",
   "language": "python",
   "name": "zcg"
  },
  "language_info": {
   "codemirror_mode": {
    "name": "ipython",
    "version": 3
   },
   "file_extension": ".py",
   "mimetype": "text/x-python",
   "name": "python",
   "nbconvert_exporter": "python",
   "pygments_lexer": "ipython3",
   "version": "3.7.10"
  }
 },
 "nbformat": 4,
 "nbformat_minor": 4
}
